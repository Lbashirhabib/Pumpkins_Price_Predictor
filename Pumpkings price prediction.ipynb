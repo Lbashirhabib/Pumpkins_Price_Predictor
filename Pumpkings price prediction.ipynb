{
 "cells": [
  {
   "cell_type": "markdown",
   "metadata": {},
   "source": [
    "Predicting the price of Pumpking"
   ]
  },
  {
   "cell_type": "code",
   "execution_count": 6,
   "metadata": {},
   "outputs": [],
   "source": [
    "import pandas as pd\n",
    "import numpy as np\n",
    "from sklearn.linear_model import LinearRegression\n",
    "from sklearn.model_selection import train_test_split\n",
    "from sklearn.preprocessing import OneHotEncoder, StandardScaler\n",
    "from sklearn.compose import ColumnTransformer\n",
    "from sklearn.pipeline import Pipeline\n",
    "import joblib"
   ]
  },
  {
   "cell_type": "code",
   "execution_count": 7,
   "metadata": {},
   "outputs": [
    {
     "name": "stdout",
     "output_type": "stream",
     "text": [
      "   City Name Type       Package      Variety Sub Variety  Grade     Date  \\\n",
      "0  BALTIMORE  NaN  24 inch bins          NaN         NaN    NaN  4/29/17   \n",
      "1  BALTIMORE  NaN  24 inch bins          NaN         NaN    NaN   5/6/17   \n",
      "2  BALTIMORE  NaN  24 inch bins  HOWDEN TYPE         NaN    NaN  9/24/16   \n",
      "3  BALTIMORE  NaN  24 inch bins  HOWDEN TYPE         NaN    NaN  9/24/16   \n",
      "4  BALTIMORE  NaN  24 inch bins  HOWDEN TYPE         NaN    NaN  11/5/16   \n",
      "\n",
      "   Low Price  High Price  Mostly Low  ...  Unit of Sale Quality Condition  \\\n",
      "0      270.0       280.0       270.0  ...           NaN     NaN       NaN   \n",
      "1      270.0       280.0       270.0  ...           NaN     NaN       NaN   \n",
      "2      160.0       160.0       160.0  ...           NaN     NaN       NaN   \n",
      "3      160.0       160.0       160.0  ...           NaN     NaN       NaN   \n",
      "4       90.0       100.0        90.0  ...           NaN     NaN       NaN   \n",
      "\n",
      "  Appearance Storage  Crop Repack  Trans Mode  Unnamed: 24  Unnamed: 25  \n",
      "0        NaN     NaN   NaN      E         NaN          NaN          NaN  \n",
      "1        NaN     NaN   NaN      E         NaN          NaN          NaN  \n",
      "2        NaN     NaN   NaN      N         NaN          NaN          NaN  \n",
      "3        NaN     NaN   NaN      N         NaN          NaN          NaN  \n",
      "4        NaN     NaN   NaN      N         NaN          NaN          NaN  \n",
      "\n",
      "[5 rows x 26 columns]\n"
     ]
    }
   ],
   "source": [
    "#Loading my data\n",
    "df = pd.read_csv(r'C:\\Users\\hp\\Desktop\\Locked\\02. Data Science\\02. Machine Learning\\6. Regression\\Data\\US-pumpkins.csv')\n",
    "print(df.head())"
   ]
  },
  {
   "cell_type": "code",
   "execution_count": 8,
   "metadata": {},
   "outputs": [
    {
     "data": {
      "text/html": [
       "<div>\n",
       "<style scoped>\n",
       "    .dataframe tbody tr th:only-of-type {\n",
       "        vertical-align: middle;\n",
       "    }\n",
       "\n",
       "    .dataframe tbody tr th {\n",
       "        vertical-align: top;\n",
       "    }\n",
       "\n",
       "    .dataframe thead th {\n",
       "        text-align: right;\n",
       "    }\n",
       "</style>\n",
       "<table border=\"1\" class=\"dataframe\">\n",
       "  <thead>\n",
       "    <tr style=\"text-align: right;\">\n",
       "      <th></th>\n",
       "      <th>Package</th>\n",
       "      <th>Variety</th>\n",
       "      <th>Low Price</th>\n",
       "      <th>High Price</th>\n",
       "      <th>Item Size</th>\n",
       "      <th>Color</th>\n",
       "    </tr>\n",
       "  </thead>\n",
       "  <tbody>\n",
       "    <tr>\n",
       "      <th>0</th>\n",
       "      <td>24 inch bins</td>\n",
       "      <td>NaN</td>\n",
       "      <td>270.0</td>\n",
       "      <td>280.0</td>\n",
       "      <td>lge</td>\n",
       "      <td>NaN</td>\n",
       "    </tr>\n",
       "    <tr>\n",
       "      <th>1</th>\n",
       "      <td>24 inch bins</td>\n",
       "      <td>NaN</td>\n",
       "      <td>270.0</td>\n",
       "      <td>280.0</td>\n",
       "      <td>lge</td>\n",
       "      <td>NaN</td>\n",
       "    </tr>\n",
       "    <tr>\n",
       "      <th>2</th>\n",
       "      <td>24 inch bins</td>\n",
       "      <td>HOWDEN TYPE</td>\n",
       "      <td>160.0</td>\n",
       "      <td>160.0</td>\n",
       "      <td>med</td>\n",
       "      <td>ORANGE</td>\n",
       "    </tr>\n",
       "    <tr>\n",
       "      <th>3</th>\n",
       "      <td>24 inch bins</td>\n",
       "      <td>HOWDEN TYPE</td>\n",
       "      <td>160.0</td>\n",
       "      <td>160.0</td>\n",
       "      <td>med</td>\n",
       "      <td>ORANGE</td>\n",
       "    </tr>\n",
       "    <tr>\n",
       "      <th>4</th>\n",
       "      <td>24 inch bins</td>\n",
       "      <td>HOWDEN TYPE</td>\n",
       "      <td>90.0</td>\n",
       "      <td>100.0</td>\n",
       "      <td>lge</td>\n",
       "      <td>ORANGE</td>\n",
       "    </tr>\n",
       "  </tbody>\n",
       "</table>\n",
       "</div>"
      ],
      "text/plain": [
       "        Package      Variety  Low Price  High Price Item Size   Color\n",
       "0  24 inch bins          NaN      270.0       280.0       lge     NaN\n",
       "1  24 inch bins          NaN      270.0       280.0       lge     NaN\n",
       "2  24 inch bins  HOWDEN TYPE      160.0       160.0       med  ORANGE\n",
       "3  24 inch bins  HOWDEN TYPE      160.0       160.0       med  ORANGE\n",
       "4  24 inch bins  HOWDEN TYPE       90.0       100.0       lge  ORANGE"
      ]
     },
     "execution_count": 8,
     "metadata": {},
     "output_type": "execute_result"
    }
   ],
   "source": [
    "df = df.drop(columns=['Type', 'City Name', 'Sub Variety', 'Grade', 'Date', 'Condition', 'Origin', 'Origin District', 'Mostly Low', 'Mostly High', 'Environment', 'Quality', 'Unit of Sale', 'Unnamed: 24', 'Unnamed: 25', 'Trans Mode', 'Repack', 'Crop', 'Storage', 'Appearance', ])\n",
    "df.head()"
   ]
  },
  {
   "cell_type": "code",
   "execution_count": 9,
   "metadata": {},
   "outputs": [
    {
     "data": {
      "text/html": [
       "<div>\n",
       "<style scoped>\n",
       "    .dataframe tbody tr th:only-of-type {\n",
       "        vertical-align: middle;\n",
       "    }\n",
       "\n",
       "    .dataframe tbody tr th {\n",
       "        vertical-align: top;\n",
       "    }\n",
       "\n",
       "    .dataframe thead th {\n",
       "        text-align: right;\n",
       "    }\n",
       "</style>\n",
       "<table border=\"1\" class=\"dataframe\">\n",
       "  <thead>\n",
       "    <tr style=\"text-align: right;\">\n",
       "      <th></th>\n",
       "      <th>Package</th>\n",
       "      <th>Variety</th>\n",
       "      <th>Low Price</th>\n",
       "      <th>High Price</th>\n",
       "      <th>Item Size</th>\n",
       "      <th>Color</th>\n",
       "    </tr>\n",
       "  </thead>\n",
       "  <tbody>\n",
       "    <tr>\n",
       "      <th>1752</th>\n",
       "      <td>22 lb cartons</td>\n",
       "      <td>MINIATURE</td>\n",
       "      <td>14.75</td>\n",
       "      <td>14.75</td>\n",
       "      <td>NaN</td>\n",
       "      <td>WHITE</td>\n",
       "    </tr>\n",
       "    <tr>\n",
       "      <th>1753</th>\n",
       "      <td>36 inch bins</td>\n",
       "      <td>MINIATURE</td>\n",
       "      <td>275.00</td>\n",
       "      <td>275.00</td>\n",
       "      <td>sml</td>\n",
       "      <td>NaN</td>\n",
       "    </tr>\n",
       "    <tr>\n",
       "      <th>1754</th>\n",
       "      <td>36 inch bins</td>\n",
       "      <td>MINIATURE</td>\n",
       "      <td>275.00</td>\n",
       "      <td>275.00</td>\n",
       "      <td>sml</td>\n",
       "      <td>NaN</td>\n",
       "    </tr>\n",
       "    <tr>\n",
       "      <th>1755</th>\n",
       "      <td>36 inch bins</td>\n",
       "      <td>MINIATURE</td>\n",
       "      <td>275.00</td>\n",
       "      <td>275.00</td>\n",
       "      <td>sml</td>\n",
       "      <td>NaN</td>\n",
       "    </tr>\n",
       "    <tr>\n",
       "      <th>1756</th>\n",
       "      <td>36 inch bins</td>\n",
       "      <td>MINIATURE</td>\n",
       "      <td>275.00</td>\n",
       "      <td>275.00</td>\n",
       "      <td>sml</td>\n",
       "      <td>NaN</td>\n",
       "    </tr>\n",
       "  </tbody>\n",
       "</table>\n",
       "</div>"
      ],
      "text/plain": [
       "            Package    Variety  Low Price  High Price Item Size  Color\n",
       "1752  22 lb cartons  MINIATURE      14.75       14.75       NaN  WHITE\n",
       "1753   36 inch bins  MINIATURE     275.00      275.00       sml    NaN\n",
       "1754   36 inch bins  MINIATURE     275.00      275.00       sml    NaN\n",
       "1755   36 inch bins  MINIATURE     275.00      275.00       sml    NaN\n",
       "1756   36 inch bins  MINIATURE     275.00      275.00       sml    NaN"
      ]
     },
     "execution_count": 9,
     "metadata": {},
     "output_type": "execute_result"
    }
   ],
   "source": [
    "df.tail()"
   ]
  },
  {
   "cell_type": "code",
   "execution_count": 17,
   "metadata": {},
   "outputs": [
    {
     "name": "stdout",
     "output_type": "stream",
     "text": [
      "            Package      Variety  Low Price  High Price Item Size   Color  \\\n",
      "0      24 inch bins          NaN     270.00      280.00       lge     NaN   \n",
      "1      24 inch bins          NaN     270.00      280.00       lge     NaN   \n",
      "2      24 inch bins  HOWDEN TYPE     160.00      160.00       med  ORANGE   \n",
      "3      24 inch bins  HOWDEN TYPE     160.00      160.00       med  ORANGE   \n",
      "4      24 inch bins  HOWDEN TYPE      90.00      100.00       lge  ORANGE   \n",
      "...             ...          ...        ...         ...       ...     ...   \n",
      "1752  22 lb cartons    MINIATURE      14.75       14.75       NaN   WHITE   \n",
      "1753   36 inch bins    MINIATURE     275.00      275.00       sml     NaN   \n",
      "1754   36 inch bins    MINIATURE     275.00      275.00       sml     NaN   \n",
      "1755   36 inch bins    MINIATURE     275.00      275.00       sml     NaN   \n",
      "1756   36 inch bins    MINIATURE     275.00      275.00       sml     NaN   \n",
      "\n",
      "         Price  \n",
      "0     205.0000  \n",
      "1     205.0000  \n",
      "2     120.0000  \n",
      "3     120.0000  \n",
      "4      70.0000  \n",
      "...        ...  \n",
      "1752   11.0625  \n",
      "1753  206.2500  \n",
      "1754  206.2500  \n",
      "1755  206.2500  \n",
      "1756  206.2500  \n",
      "\n",
      "[1757 rows x 7 columns]\n"
     ]
    }
   ],
   "source": [
    "#Now i will use the low price and high price to get the price column\n",
    "df['Price'] = (df['Low Price']) + (df['High Price']) / 2\n",
    "df['Price'] = (df['Price']) / 2\n",
    "print(df)"
   ]
  },
  {
   "cell_type": "code",
   "execution_count": 39,
   "metadata": {},
   "outputs": [],
   "source": [
    "# Separate features and target\n",
    "X = df.drop('Price', axis=1)\n",
    "y = df['Price'] "
   ]
  },
  {
   "cell_type": "code",
   "execution_count": 40,
   "metadata": {},
   "outputs": [],
   "source": [
    "# We can Define categorical and numerical features\n",
    "categorical_features = ['Variety', 'Color', 'Package', 'Item Size']\n",
    "numerical_features = ['Low Price', 'High Price']\n",
    "\n",
    "# Lets Create preprocessing pipeline\n",
    "preprocessor = ColumnTransformer(\n",
    "    transformers=[\n",
    "        ('num', StandardScaler(), numerical_features),\n",
    "        ('cat', OneHotEncoder(handle_unknown='ignore'), categorical_features)\n",
    "    ])\n",
    "\n",
    "# Now i split data\n",
    "X_train, X_test, y_train, y_test = train_test_split(X, y, test_size=0.2, random_state=42)"
   ]
  },
  {
   "cell_type": "code",
   "execution_count": 41,
   "metadata": {},
   "outputs": [
    {
     "name": "stdout",
     "output_type": "stream",
     "text": [
      "Training R²: 1.000\n",
      "Testing R²: 1.000\n"
     ]
    }
   ],
   "source": [
    "# We now create pipeline with preprocessing and model\n",
    "model = Pipeline([\n",
    "    ('preprocessor', preprocessor),\n",
    "    ('regressor', LinearRegression())\n",
    "])\n",
    "#Let Train the model\n",
    "model.fit(X_train, y_train)\n",
    "#And Evaluate\n",
    "train_score = model.score(X_train, y_train)\n",
    "test_score = model.score(X_test, y_test)\n",
    "print(f\"Training R²: {train_score:.3f}\")\n",
    "print(f\"Testing R²: {test_score:.3f}\")"
   ]
  },
  {
   "cell_type": "code",
   "execution_count": 42,
   "metadata": {},
   "outputs": [],
   "source": [
    "# Now lets Save the entire pipeline (including preprocessing)\n",
    "joblib.dump(model, 'pumpkins_price_predictor.pkl')\n",
    "\n",
    "#i start with saving just the model coefficients for inspection:\n",
    "coefficients = pd.DataFrame({\n",
    "    'feature': numerical_features + \n",
    "               list(model.named_steps['preprocessor']\n",
    "                   .named_transformers_['cat']\n",
    "                   .get_feature_names_out(categorical_features)),\n",
    "    'coefficient': model.named_steps['regressor'].coef_\n",
    "})\n",
    "coefficients.to_csv('model_coefficients.csv', index=False)"
   ]
  },
  {
   "cell_type": "code",
   "execution_count": 43,
   "metadata": {},
   "outputs": [],
   "source": [
    "#Now if i am to use the model later\n",
    "import joblib\n",
    "import pandas as pd"
   ]
  },
  {
   "cell_type": "code",
   "execution_count": 44,
   "metadata": {},
   "outputs": [],
   "source": [
    "# we Load the saved model First\n",
    "model = joblib.load('pumpkins_price_predictor.pkl')"
   ]
  },
  {
   "cell_type": "code",
   "execution_count": 45,
   "metadata": {},
   "outputs": [],
   "source": [
    "def predict_price(input_data):\n",
    "    \"\"\"Predict Pumpkins price from input dictionary\"\"\"\n",
    "    # Convert to DataFrame\n",
    "    input_df = pd.DataFrame([input_data])\n",
    "    \n",
    "    # Make prediction\n",
    "    price = model.predict(input_df)[0]\n",
    "    return price"
   ]
  },
  {
   "cell_type": "code",
   "execution_count": 46,
   "metadata": {},
   "outputs": [
    {
     "name": "stdout",
     "output_type": "stream",
     "text": [
      "Predicted Price: $201.75\n"
     ]
    }
   ],
   "source": [
    "# Lets try\n",
    "if __name__ == \"__main__\":\n",
    "    # lets try some inputs\n",
    "    New_Pumpkin = {\n",
    "        'Package': '24 inch bins',\n",
    "        'Low Price': 260,\n",
    "        'High Price': 287,\n",
    "        'Variety': 'MINIATURE',\n",
    "        'Item Size': 'sml', \n",
    "        'Color': 'White'\n",
    "    }\n",
    "    \n",
    "    predicted_price = predict_price(New_Pumpkin)\n",
    "    print(f\"Predicted Price: ${predicted_price:,.2f}\")"
   ]
  }
 ],
 "metadata": {
  "kernelspec": {
   "display_name": "base",
   "language": "python",
   "name": "python3"
  },
  "language_info": {
   "codemirror_mode": {
    "name": "ipython",
    "version": 3
   },
   "file_extension": ".py",
   "mimetype": "text/x-python",
   "name": "python",
   "nbconvert_exporter": "python",
   "pygments_lexer": "ipython3",
   "version": "3.12.7"
  }
 },
 "nbformat": 4,
 "nbformat_minor": 2
}
